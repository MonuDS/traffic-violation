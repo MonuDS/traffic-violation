{
  "nbformat": 4,
  "nbformat_minor": 0,
  "metadata": {
    "colab": {
      "name": "Detection_&_Darknet.ipynb",
      "provenance": [],
      "collapsed_sections": [],
      "authorship_tag": "ABX9TyPDhkO1LltTWaBg60G5IHmH",
      "include_colab_link": true
    },
    "kernelspec": {
      "name": "python3",
      "display_name": "Python 3"
    }
  },
  "cells": [
    {
      "cell_type": "markdown",
      "metadata": {
        "id": "view-in-github",
        "colab_type": "text"
      },
      "source": [
        "<a href=\"https://colab.research.google.com/github/MonuDS/traffic-violation/blob/master/Detection_%26_Darknet.ipynb\" target=\"_parent\"><img src=\"https://colab.research.google.com/assets/colab-badge.svg\" alt=\"Open In Colab\"/></a>"
      ]
    },
    {
      "cell_type": "code",
      "metadata": {
        "id": "EaEwKIif6MZ5",
        "colab_type": "code",
        "colab": {}
      },
      "source": [
        "\n",
        "#Don't forget to select GPU! \n",
        "\n",
        "\n",
        "#First, let's get some updates\n",
        "!apt-get update\n",
        "!apt-get upgrade"
      ],
      "execution_count": 0,
      "outputs": []
    },
    {
      "cell_type": "code",
      "metadata": {
        "id": "HL3rm5K56rMM",
        "colab_type": "code",
        "colab": {}
      },
      "source": [
        "#Now here's some important stuff: after long and painful trial and error\n",
        "#I found that OpenCV can only really be installed through apt-get if you \n",
        "#intsall this stuff first , got no idea which libraries are actually useful\n",
        "#here though, to be frank, but everything works only after this step! =) \n",
        "\n",
        "\n",
        "!apt-get install build-essential\n",
        "!apt-get install cmake git libgtk2.0-dev pkg-config libavcodec-dev libavformat-dev libswscale-dev"
      ],
      "execution_count": 0,
      "outputs": []
    },
    {
      "cell_type": "code",
      "metadata": {
        "id": "dBP5MXIR6wuK",
        "colab_type": "code",
        "colab": {}
      },
      "source": [
        "#And some more...\n",
        "!apt-get install libavcodec-dev libavformat-dev libswscale-d"
      ],
      "execution_count": 0,
      "outputs": []
    },
    {
      "cell_type": "code",
      "metadata": {
        "id": "66W9mZE_6wvq",
        "colab_type": "code",
        "colab": {}
      },
      "source": [
        "!apt-get -y install cmake\n",
        "!which cmake\n",
        "\n",
        "!cmake --version"
      ],
      "execution_count": 0,
      "outputs": []
    },
    {
      "cell_type": "code",
      "metadata": {
        "id": "CHsyYpSI6wzT",
        "colab_type": "code",
        "colab": {}
      },
      "source": [
        "#Installing OpenCV\n",
        "!apt-get install libopencv-dev"
      ],
      "execution_count": 0,
      "outputs": []
    },
    {
      "cell_type": "code",
      "metadata": {
        "id": "d2MvY37W6w0v",
        "colab_type": "code",
        "colab": {}
      },
      "source": [
        "#Now let's clone Darknet fork from AlexeyAB that let's us put in the -dont_show flag\n",
        "#That turns out to be quite handy, since we've got no display here :D\n",
        "!git clone https://github.com/AlexeyAB/darknet/"
      ],
      "execution_count": 0,
      "outputs": []
    },
    {
      "cell_type": "code",
      "metadata": {
        "id": "o7q4BhKT6w4x",
        "colab_type": "code",
        "colab": {}
      },
      "source": [
        "#!cat throws an error on Makefile, so I use !vim to verify whether we \n",
        "#actually successfuly modified the Makefile\n",
        "!apt-get install vim"
      ],
      "execution_count": 0,
      "outputs": []
    },
    {
      "cell_type": "code",
      "metadata": {
        "id": "5L3XvXUi6w6s",
        "colab_type": "code",
        "colab": {}
      },
      "source": [
        "#Uncomment !vim line to check the Makefile, beware that you'll need to\n",
        "#manually puase this cell to move forward\n",
        "\n",
        "%cd darknet\n",
        "!vim Makefile"
      ],
      "execution_count": 0,
      "outputs": []
    },
    {
      "cell_type": "code",
      "metadata": {
        "id": "hkdhmXCv7A60",
        "colab_type": "code",
        "colab": {}
      },
      "source": [
        "#Now let's get some YOLOv3 weights from the official site\n",
        "!ls\n",
        "!wget https://pjreddie.com/media/files/yolov3.weights"
      ],
      "execution_count": 0,
      "outputs": []
    },
    {
      "cell_type": "code",
      "metadata": {
        "id": "ILKafzsw7A8e",
        "colab_type": "code",
        "colab": {}
      },
      "source": [
        "#No here we're modifying the makefile to set OPENCV and GPU to 1\n",
        "!ls\n",
        "!sed -i 's/OPENCV=0/OPENCV=1/g' Makefile\n",
        "!sed -i 's/GPU=0/GPU=1/g' Makefile"
      ],
      "execution_count": 0,
      "outputs": []
    },
    {
      "cell_type": "code",
      "metadata": {
        "id": "9MTFf_Bz7A_z",
        "colab_type": "code",
        "colab": {}
      },
      "source": [
        "#Uncomment to check whether it worked, needs to be stopped manually \n",
        "!vim Makefile"
      ],
      "execution_count": 0,
      "outputs": []
    },
    {
      "cell_type": "code",
      "metadata": {
        "id": "nsCcOfZH7BBS",
        "colab_type": "code",
        "colab": {}
      },
      "source": [
        "#Going to the parent directory\n",
        "!ls\n",
        "%cd ../\n",
        "!ls"
      ],
      "execution_count": 0,
      "outputs": []
    },
    {
      "cell_type": "code",
      "metadata": {
        "id": "H9cfhmgu7BEN",
        "colab_type": "code",
        "colab": {}
      },
      "source": [
        "!apt install g++-5\n",
        "!apt install gcc-5\n",
        "\n",
        "!update-alternatives --install /usr/bin/gcc gcc /usr/bin/gcc-5 10\n",
        "!update-alternatives --install /usr/bin/gcc gcc /usr/bin/gcc-5 20\n",
        "!update-alternatives --install /usr/bin/g++ g++ /usr/bin/g++-5 10\n",
        "!update-alternatives --install /usr/bin/g++ g++ /usr/bin/g++-5 20\n",
        "!update-alternatives --install /usr/bin/cc cc /usr/bin/gcc 30\n",
        "!update-alternatives --set cc /usr/bin/gcc\n",
        "!update-alternatives --install /usr/bin/c++ c++ /usr/bin/g++ 30\n",
        "!update-alternatives --set c++ /usr/bin/g++"
      ],
      "execution_count": 0,
      "outputs": []
    },
    {
      "cell_type": "code",
      "metadata": {
        "id": "dNOolTAP7BFr",
        "colab_type": "code",
        "colab": {}
      },
      "source": [
        "#Now, here's a bunch of code that takes the longest to execute here but\n",
        "#It's about installing CUDA and using the beautiful Tesla K80 GPU, so that\n",
        "#Will worth it\n",
        "\n",
        "!apt update -qq;\n",
        "!wget https://developer.nvidia.com/compute/cuda/8.0/Prod2/local_installers/cuda-repo-ubuntu1604-8-0-local-ga2_8.0.61-1_amd64-deb\n",
        "!dpkg -i cuda-repo-ubuntu1604-8-0-local-ga2_8.0.61-1_amd64-deb\n",
        "!apt-get update -qq\n",
        "\n",
        "#Here were are installing compilers and creating some links\n",
        "!apt-get install cuda -y -qq #gcc-5 g++-5 \n",
        "#!ln -s /usr/bin/gcc-5 /usr/local/cuda/bin/gcc\n",
        "#!ln -s /usr/bin/g++-5 /usr/local/cuda/bin/g++\n",
        "!apt update\n",
        "!apt upgrade\n",
        "!apt install cuda-8.0 -y"
      ],
      "execution_count": 0,
      "outputs": []
    },
    {
      "cell_type": "code",
      "metadata": {
        "id": "FMN9DUp07BIp",
        "colab_type": "code",
        "colab": {}
      },
      "source": [
        "#Now let's see whether the GPU is here and CUDA was successfully installed!\n",
        "import tensorflow as tf\n",
        "device_name = tf.test.gpu_device_name()\n",
        "print(device_name)\n",
        "\n",
        "print(\"'sup!'\")\n",
        "\n",
        "!/usr/local/cuda/bin/nvcc --version"
      ],
      "execution_count": 0,
      "outputs": []
    },
    {
      "cell_type": "code",
      "metadata": {
        "id": "Jk-NdaOZ7BKE",
        "colab_type": "code",
        "colab": {}
      },
      "source": [
        "#Okay, if so far no crazy FBI agents are knocking on your doors asking you\n",
        "#To stop playing with DARKNET we can actually go and !MAKE it\n",
        "\n",
        "%cd darknet\n",
        "!make"
      ],
      "execution_count": 0,
      "outputs": []
    },
    {
      "cell_type": "code",
      "metadata": {
        "id": "gWgREllw7feC",
        "colab_type": "code",
        "colab": {}
      },
      "source": [
        "#Let's define some functions that will let us show images, and upload and \n",
        "#download files\n",
        "def imShow(path):\n",
        "  import cv2\n",
        "  import matplotlib.pyplot as plt\n",
        "  %matplotlib inline\n",
        "\n",
        "  image = cv2.imread(path)\n",
        "  height, width = image.shape[:2]\n",
        "  resized_image = cv2.resize(image,(3*width, 3*height), interpolation = cv2.INTER_CUBIC)\n",
        "\n",
        "  fig = plt.gcf()\n",
        "  fig.set_size_inches(18, 10)\n",
        "  plt.axis(\"off\")\n",
        "  #plt.rcParams['figure.figsize'] = [10, 5]\n",
        "  plt.imshow(cv2.cvtColor(resized_image, cv2.COLOR_BGR2RGB))\n",
        "  plt.show()\n",
        "  \n",
        "  \n",
        "def upload():\n",
        "  from google.colab import files\n",
        "  uploaded = files.upload() \n",
        "  for name, data in uploaded.items():\n",
        "    with open(name, 'wb') as f:\n",
        "      f.write(data)\n",
        "      print ('saved file', name)\n",
        "def download(path):\n",
        "  from google.colab import files\n",
        "  files.download(path)"
      ],
      "execution_count": 0,
      "outputs": []
    },
    {
      "cell_type": "code",
      "metadata": {
        "id": "e8S6J4VQ7ffj",
        "colab_type": "code",
        "colab": {}
      },
      "source": [
        "#!ls\n",
        "upload()"
      ],
      "execution_count": 0,
      "outputs": []
    },
    {
      "cell_type": "code",
      "metadata": {
        "id": "zp69_JSw7fjM",
        "colab_type": "code",
        "colab": {}
      },
      "source": [
        "#Here's the command for processing video, make sure you have the weights and\n",
        "#It'll be saved as result.avi\n",
        "\n",
        "!./darknet detector demo cfg/coco.data cfg/yolov3.cfg yolov3.weights -dont_show overpass.mp4 -i 0 -out_filename fiddlevideo1.avi"
      ],
      "execution_count": 0,
      "outputs": []
    },
    {
      "cell_type": "code",
      "metadata": {
        "id": "1bqIMtVw7fkw",
        "colab_type": "code",
        "colab": {}
      },
      "source": [
        "download('fiddlevideo1.avi')"
      ],
      "execution_count": 0,
      "outputs": []
    },
    {
      "cell_type": "code",
      "metadata": {
        "id": "cJ7lj4Yz7foj",
        "colab_type": "code",
        "colab": {}
      },
      "source": [
        ""
      ],
      "execution_count": 0,
      "outputs": []
    },
    {
      "cell_type": "code",
      "metadata": {
        "id": "opQFtjBx7fqO",
        "colab_type": "code",
        "colab": {}
      },
      "source": [
        ""
      ],
      "execution_count": 0,
      "outputs": []
    },
    {
      "cell_type": "code",
      "metadata": {
        "id": "zqfb-muN7fuf",
        "colab_type": "code",
        "colab": {}
      },
      "source": [
        ""
      ],
      "execution_count": 0,
      "outputs": []
    }
  ]
}